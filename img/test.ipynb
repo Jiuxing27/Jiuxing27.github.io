{
 "cells": [
  {
   "cell_type": "code",
   "execution_count": 10,
   "metadata": {},
   "outputs": [],
   "source": [
    "from PIL import Image\n",
    "import os\n",
    "\n",
    "def resize_images(folder_path):\n",
    "    # 获取文件夹中的所有文件名\n",
    "    files = os.listdir(folder_path)\n",
    "\n",
    "    for file in files:\n",
    "\n",
    "        # 检查文件是否为PNG格式\n",
    "        \n",
    "        if file.endswith('.png'):\n",
    "            file_path = os.path.join(folder_path, file)\n",
    "            # 打开图像\n",
    "            file_path=os.path.join(folder_path, file[:-4]+'.png')\n",
    "            img = Image.open(file_path)\n",
    "            # 根据文件名进行resize\n",
    "            if file.startswith('01') or file.startswith('02') or file.startswith('03') or file.startswith('04') or file.startswith('05') or file.startswith('06'):\n",
    "                # resize为100x98\n",
    "                img_resized = img.resize((100, 98))\n",
    "            elif file.startswith('1') or file.startswith('2') or file.startswith('3') or file.startswith('4') or file.startswith('5') or file.startswith('6'):\n",
    "                # resize为400x401\n",
    "                img_resized = img.resize((400, 401))\n",
    "            else:\n",
    "                # 其他情况保持原始大小\n",
    "                img_resized = img\n",
    "            \n",
    "            # 保存resize后的图像\n",
    "            img_resized.save(file_path)\n",
    "\n",
    "\n",
    "# 指定文件夹路径\n",
    "folder_path = './'\n",
    "\n",
    "# 调用函数进行resize\n",
    "resize_images(folder_path)\n"
   ]
  },
  {
   "cell_type": "code",
   "execution_count": 9,
   "metadata": {},
   "outputs": [
    {
     "name": "stdout",
     "output_type": "stream",
     "text": [
      "文件 '01.jpg' 已成功重命名为 '01.png'\n",
      "文件 '02.jpg' 已成功重命名为 '02.png'\n",
      "文件 '03.jpg' 已成功重命名为 '03.png'\n",
      "文件 '04.jpg' 已成功重命名为 '04.png'\n",
      "文件 '05.jpg' 已成功重命名为 '05.png'\n",
      "文件 '06.jpg' 已成功重命名为 '06.png'\n",
      "文件 '1.jpg' 已成功重命名为 '1.png'\n",
      "文件 '2.jpg' 已成功重命名为 '2.png'\n",
      "文件 '3.jpg' 已成功重命名为 '3.png'\n",
      "文件 '4.jpg' 已成功重命名为 '4.png'\n",
      "文件 '5.jpg' 已成功重命名为 '5.png'\n",
      "文件 '6.jpg' 已成功重命名为 '6.png'\n"
     ]
    }
   ],
   "source": [
    "import os\n",
    "\n",
    "def rename_files(folder_path):\n",
    "    # 遍历文件夹中的所有文件\n",
    "    for filename in os.listdir(folder_path):\n",
    "        # 构建完整的文件路径\n",
    "        file_path = os.path.join(folder_path, filename)\n",
    "        # 如果是文件而不是文件夹\n",
    "        if os.path.isfile(file_path):\n",
    "            # 如果文件名以'.jpg'结尾\n",
    "            if filename.endswith('.jpg'):\n",
    "                # 构建新的文件名，将'.jpg'替换为'.png'\n",
    "                new_filename = filename[:-4] + '.png'\n",
    "                # 构建新的文件路径\n",
    "                new_file_path = os.path.join(folder_path, new_filename)\n",
    "                # 重命名文件\n",
    "                os.rename(file_path, new_file_path)\n",
    "                print(f\"文件 '{filename}' 已成功重命名为 '{new_filename}'\")\n",
    "\n",
    "# 示例用法\n",
    "folder_path = \"./\"\n",
    "rename_files(folder_path)\n"
   ]
  },
  {
   "cell_type": "code",
   "execution_count": 8,
   "metadata": {},
   "outputs": [],
   "source": [
    "import os\n",
    "import shutil\n",
    "\n",
    "def copy_and_rename_files(source_folder, destination_folder):\n",
    "    # 检查目标文件夹是否存在，如果不存在则创建\n",
    "    if not os.path.exists(destination_folder):\n",
    "        os.makedirs(destination_folder)\n",
    "\n",
    "    # 遍历源文件夹中的所有文件\n",
    "    for filename in os.listdir(source_folder):\n",
    "        # 如果文件是以 \".jpg\" 结尾的图像文件\n",
    "        if filename.endswith('.jpg'):\n",
    "            # 构建源文件的路径\n",
    "            source_file = os.path.join(source_folder, filename)\n",
    "            # 构建目标文件的路径\n",
    "            new_filename = filename[:-4].zfill(2) + '.jpg'  # 生成新的文件名，例如将 \"1.jpg\" 重命名为 \"01.jpg\"\n",
    "            destination_file = os.path.join(destination_folder, new_filename)\n",
    "            # 复制并重命名文件\n",
    "            shutil.copyfile(source_file, destination_file)\n",
    "\n",
    "# 指定源文件夹和目标文件夹的路径\n",
    "source_folder = './'\n",
    "destination_folder = './'\n",
    "\n",
    "# 调用函数\n",
    "copy_and_rename_files(source_folder, destination_folder)\n"
   ]
  }
 ],
 "metadata": {
  "kernelspec": {
   "display_name": "Python (py38)",
   "language": "python",
   "name": "py38"
  },
  "language_info": {
   "codemirror_mode": {
    "name": "ipython",
    "version": 3
   },
   "file_extension": ".py",
   "mimetype": "text/x-python",
   "name": "python",
   "nbconvert_exporter": "python",
   "pygments_lexer": "ipython3",
   "version": "3.8.18"
  }
 },
 "nbformat": 4,
 "nbformat_minor": 4
}
